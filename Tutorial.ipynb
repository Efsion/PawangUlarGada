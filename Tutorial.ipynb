{
  "cells": [
    {
      "metadata": {},
      "cell_type": "markdown",
      "source": "<font style=\"text-align:justify\" color=red size=\"15|\">__Python Training__</font> <br><br><br>\n\n&nbsp;&nbsp;&nbsp;&nbsp;&nbsp;&nbsp;&nbsp;&nbsp;&nbsp;&nbsp;&nbsp;&nbsp;&nbsp;&nbsp;&nbsp;&nbsp;&nbsp;&nbsp;&nbsp;&nbsp;&nbsp;&nbsp;&nbsp;&nbsp;&nbsp;&nbsp;&nbsp;&nbsp;&nbsp;&nbsp;&nbsp;&nbsp;&nbsp;&nbsp;&nbsp;\n<font size=\"5|\">Held by</font> <br><br><br>\n\n&nbsp;&nbsp;&nbsp;&nbsp;&nbsp;&nbsp;&nbsp;&nbsp;&nbsp;&nbsp;&nbsp;&nbsp;&nbsp;&nbsp;&nbsp;&nbsp;&nbsp;&nbsp;&nbsp;&nbsp;&nbsp;&nbsp;&nbsp;&nbsp;&nbsp;&nbsp;&nbsp;\n<font color=green size=\"15|\">__DAGO__</font> <br><br><br>\n\n&nbsp;&nbsp;&nbsp;&nbsp;&nbsp;&nbsp;&nbsp;&nbsp;&nbsp;&nbsp;&nbsp;&nbsp;&nbsp;&nbsp;&nbsp;&nbsp;&nbsp;&nbsp;&nbsp;&nbsp;&nbsp;&nbsp;&nbsp;&nbsp;&nbsp;&nbsp;&nbsp;\n<font size=\"5|\">Supported by</font> <br><br><br>\n\n\n&nbsp;&nbsp;&nbsp;&nbsp;&nbsp;&nbsp;&nbsp;&nbsp;&nbsp;&nbsp;\n<font color=blue size=\"15|\">__Gada Energy__</font>\n"
    },
    {
      "metadata": {},
      "cell_type": "markdown",
      "source": "![title](https://previews.123rf.com/images/zetwe/zetwe1210/zetwe121000131/15669079-illustration-of-a-snake-tamer.jpg)"
    },
    {
      "metadata": {
        "collapsed": true
      },
      "cell_type": "markdown",
      "source": "# Start With \"Hello World!\n\nGunakan syntax __print()__ untuk menuliskan ke console\n"
    },
    {
      "metadata": {
        "trusted": true
      },
      "cell_type": "code",
      "source": "print(\"Hello World!\")",
      "execution_count": 8,
      "outputs": [
        {
          "output_type": "stream",
          "text": "Hello World!\n",
          "name": "stdout"
        }
      ]
    },
    {
      "metadata": {},
      "cell_type": "markdown",
      "source": "## Tipe Data di Python\n* __integer__ = bilangan bulat\n* __float__   = bilangan berkoma\n* __string__  = kata \n* __boolean__ = logika (benar/salah)\n\nSetiap nilai dari tipe data dapat dialokasikan atau disimpan pada memori yang disebut sebagai variable <br>\nGunakan syntax __type()__ untuk mengecek tipe data\n\n### Exercise \nAssign tiap variable dengan tipe data yang berbeda, print nilai variable tersebut beserta tipenya"
    },
    {
      "metadata": {
        "trusted": true
      },
      "cell_type": "code",
      "source": "bulat=5\nprint(bulat)\nprint(type(bulat))\n\nkata=\"jumlah rumah\"\nprint(kata)\nprint(type(kata))",
      "execution_count": 15,
      "outputs": [
        {
          "output_type": "stream",
          "text": "5\n<class 'int'>\njumlah rumah\n<class 'str'>\n",
          "name": "stdout"
        }
      ]
    },
    {
      "metadata": {},
      "cell_type": "markdown",
      "source": "## Basic Arithmetic\n* __+__ = jumlah\n* __-__ = kurang\n* __*__ = kali\n* __/__ = bagi\n* __%__ = modulo (sisa bagi)\n* __**__ = pangkat\n\n### Exercise \nGunakan arithmatic tersebut pada tipe data yang berbeda"
    },
    {
      "metadata": {
        "trusted": true
      },
      "cell_type": "code",
      "source": "print(3+2)\nprint(9-13)\nprint(2*4)\nprint(1/5)\nprint(9%2)\nprint(2**5)\n\nprint(\"Kota\" + \"Bandung\")\nprint(True + False)",
      "execution_count": 41,
      "outputs": [
        {
          "output_type": "stream",
          "text": "5\n-4\n8\n0.2\n1\n32\nKotaBandung\n1\n",
          "name": "stdout"
        }
      ]
    },
    {
      "metadata": {},
      "cell_type": "markdown",
      "source": "__print()__ dapat digunakan untuk menulis beberapa variabel sekaligus <br>\n__print()__ tidak dapat digunakan pada tipe data yang berbeda <br>\n\nMasalah tersebut dapat diselesaikan dengan mengubah tipe data menggunakan syntax Casting <br>\n* __int()__ = mengubah menjadi integer  \n* __float()__ = mengubah menjadi float  \n* __str()__ = mengubah menjadi string   \n* __bool()__ = mengubah menjadi bool \n\n### Exercise \nGunakan pada tipe data yang berbeda"
    },
    {
      "metadata": {
        "trusted": true
      },
      "cell_type": "code",
      "source": "print(kata + \" sebanyak = \" + str(bulat))",
      "execution_count": 26,
      "outputs": [
        {
          "output_type": "stream",
          "text": "jumlah rumah sebanyak = 5\n",
          "name": "stdout"
        }
      ]
    },
    {
      "metadata": {
        "trusted": true
      },
      "cell_type": "markdown",
      "source": "## LOOP\n\nBayangkan anda diminta untuk menulis bilangan dari 1 hingga 100 pada console <br>\nMenuliskan satu per satu line code membutuhkan waktu yang lama dan juga monoton <br>\nFungsi dari komputer salah satunya adalah untuk mengerjakan hal-hal yang berulang dan monoton <br>\n\nPada python konsep perulangan terekam pada syntax __For__ dan __While__ <br>\n\n__For__ digunakan pada pekerjaan berulang __untuk__ jumlah step yang sudah ditentukan dari awal <br>\n__While__ perkerjaan berulang akan terus dikerjakan __selama__ kondisi masih benar <br>\n\n### IDENTATION ATAU TAB PENTING DALAM PYTHON !!! \n\n### Exercise \nGunakan loop untuk menulis angka 1 hingga 20\n\n\n"
    },
    {
      "metadata": {
        "trusted": true
      },
      "cell_type": "code",
      "source": "for i in range(10):\n    print(i)",
      "execution_count": 42,
      "outputs": [
        {
          "output_type": "stream",
          "text": "0\n1\n2\n3\n4\n5\n6\n7\n8\n9\n",
          "name": "stdout"
        }
      ]
    },
    {
      "metadata": {
        "trusted": true
      },
      "cell_type": "code",
      "source": "i=0\nwhile(i<10):\n    print(i)\n    i+=1",
      "execution_count": 44,
      "outputs": [
        {
          "output_type": "stream",
          "text": "0\n1\n2\n3\n4\n5\n6\n7\n8\n9\n",
          "name": "stdout"
        }
      ]
    },
    {
      "metadata": {
        "trusted": true
      },
      "cell_type": "markdown",
      "source": "## Logical Conditional\n\n__IF__ digunakan untuk mengecek kebenaran suatu variabel, __jika__ kondisi benar maka code dijalankan, vice versa <br>\n\nAdapun operator yang dipakai sebagai berikut: <br>\n* __==__ : sama dengan\n* __!=__ : tidak sama dengan\n* __<__ : lebih kecil\n* __>__ : lebih besar\n\n### Exercise \nCek suatu nilai genap atau ganjil"
    },
    {
      "metadata": {
        "trusted": true
      },
      "cell_type": "code",
      "source": "angka=7\nif angka%2 == 0 :\n    print(\"genap\")\nelse:\n    print(\"ganjil\")",
      "execution_count": 46,
      "outputs": [
        {
          "output_type": "stream",
          "text": "ganjil\n",
          "name": "stdout"
        }
      ]
    },
    {
      "metadata": {
        "trusted": true
      },
      "cell_type": "markdown",
      "source": "## Combinational\n\nSyntax __for, while, if__ dapat digunakan sekaligus untuk menghasilkan pekerjaan yang lebih komplek\n\n### Exercise\nPrint angka 1 hingga 20, tentukan bilangan prima atau bukan"
    },
    {
      "metadata": {
        "trusted": true
      },
      "cell_type": "code",
      "source": "for i in range(21):\n    if i%2==0:\n        print(str(i) + \"= bilangan genap\")\n    else:\n        print(str(i) + \"= bilangan ganjil\")",
      "execution_count": 55,
      "outputs": [
        {
          "output_type": "stream",
          "text": "0= bilangan genap\n1= bilangan ganjil\n2= bilangan genap\n3= bilangan ganjil\n4= bilangan genap\n5= bilangan ganjil\n6= bilangan genap\n7= bilangan ganjil\n8= bilangan genap\n9= bilangan ganjil\n10= bilangan genap\n11= bilangan ganjil\n12= bilangan genap\n13= bilangan ganjil\n14= bilangan genap\n15= bilangan ganjil\n16= bilangan genap\n17= bilangan ganjil\n18= bilangan genap\n19= bilangan ganjil\n20= bilangan genap\n",
          "name": "stdout"
        }
      ]
    },
    {
      "metadata": {
        "trusted": true
      },
      "cell_type": "markdown",
      "source": "## Function\n\n\n\n\n### Exercise\nBuat fungsi untuk menghitung luas dan keliling segitiga"
    },
    {
      "metadata": {
        "trusted": true
      },
      "cell_type": "code",
      "source": "def luas_persegi(sisi):\n    return sisi**2",
      "execution_count": 71,
      "outputs": []
    },
    {
      "metadata": {
        "trusted": true
      },
      "cell_type": "code",
      "source": "def keliling_segitiga(sisi_1,sisi_2,sisi_3):\n    return sisi_1+sisi_2+sisi_3",
      "execution_count": 80,
      "outputs": []
    },
    {
      "metadata": {
        "trusted": true
      },
      "cell_type": "code",
      "source": "print(luas_persegi(2))\nprint(keliling_segitiga(1,2,3))",
      "execution_count": 81,
      "outputs": [
        {
          "output_type": "stream",
          "text": "4\n6\n",
          "name": "stdout"
        }
      ]
    },
    {
      "metadata": {
        "trusted": true
      },
      "cell_type": "markdown",
      "source": "## Procedure"
    },
    {
      "metadata": {
        "trusted": true
      },
      "cell_type": "code",
      "source": "def greeting():\n    print(\"Good morning\")\n    print(\"Good afternoon\")",
      "execution_count": 82,
      "outputs": []
    },
    {
      "metadata": {
        "trusted": true
      },
      "cell_type": "markdown",
      "source": "## Collection Data Type\nList, array"
    },
    {
      "metadata": {
        "trusted": true
      },
      "cell_type": "code",
      "source": "luas_persegi(2)",
      "execution_count": 85,
      "outputs": [
        {
          "output_type": "execute_result",
          "execution_count": 85,
          "data": {
            "text/plain": "4"
          },
          "metadata": {}
        }
      ]
    },
    {
      "metadata": {
        "trusted": true
      },
      "cell_type": "markdown",
      "source": "## Module"
    },
    {
      "metadata": {
        "trusted": true
      },
      "cell_type": "code",
      "source": "",
      "execution_count": null,
      "outputs": []
    },
    {
      "metadata": {
        "trusted": true
      },
      "cell_type": "markdown",
      "source": "## File External\ntxt, excel"
    },
    {
      "metadata": {
        "trusted": true
      },
      "cell_type": "code",
      "source": "",
      "execution_count": null,
      "outputs": []
    },
    {
      "metadata": {
        "trusted": true
      },
      "cell_type": "markdown",
      "source": "## Debugging"
    },
    {
      "metadata": {
        "trusted": true
      },
      "cell_type": "code",
      "source": "",
      "execution_count": null,
      "outputs": []
    },
    {
      "metadata": {
        "trusted": true
      },
      "cell_type": "markdown",
      "source": "## Exception Handler\ntry and except\n"
    },
    {
      "metadata": {
        "trusted": true
      },
      "cell_type": "code",
      "source": "",
      "execution_count": null,
      "outputs": []
    },
    {
      "metadata": {
        "trusted": true
      },
      "cell_type": "markdown",
      "source": "## Libary\nnumpy, matplotlib\n"
    },
    {
      "metadata": {
        "trusted": true
      },
      "cell_type": "code",
      "source": "import matplotlib.pyplot as plt\nx=[1,2,3,4,5]\ny=[2,4,6,8,10]\nplt.plot(x,y)\nplt.show()",
      "execution_count": 90,
      "outputs": [
        {
          "output_type": "execute_result",
          "execution_count": 90,
          "data": {
            "text/plain": "[<matplotlib.lines.Line2D at 0x7fddb9485fd0>]"
          },
          "metadata": {}
        },
        {
          "output_type": "display_data",
          "data": {
            "image/png": "[encoded data removed]",
            "text/plain": "<Figure size 432x288 with 1 Axes>"
          },
          "metadata": {
            "needs_background": "light"
          }
        }
      ]
    },
    {
      "metadata": {
        "trusted": true
      },
      "cell_type": "code",
      "source": "",
      "execution_count": null,
      "outputs": []
    },
    {
      "metadata": {
        "trusted": true
      },
      "cell_type": "code",
      "source": "\n",
      "execution_count": null,
      "outputs": []
    },
    {
      "metadata": {
        "trusted": true
      },
      "cell_type": "code",
      "source": "",
      "execution_count": null,
      "outputs": []
    }
  ],
  "metadata": {
    "kernelspec": {
      "name": "python36",
      "display_name": "Python 3.6",
      "language": "python"
    },
    "language_info": {
      "mimetype": "text/x-python",
      "nbconvert_exporter": "python",
      "name": "python",
      "pygments_lexer": "ipython3",
      "version": "3.6.6",
      "file_extension": ".py",
      "codemirror_mode": {
        "version": 3,
        "name": "ipython"
      }
    }
  },
  "nbformat": 4,
  "nbformat_minor": 2
}